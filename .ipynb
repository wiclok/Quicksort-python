{
 "cells": [
  {
   "cell_type": "markdown",
   "metadata": {},
   "source": [
    "# Implementación del Algoritmo Quicksort en Python"
   ]
  },
  {
   "cell_type": "markdown",
   "metadata": {},
   "source": [
    "- Definición de la función Quicksort.\n",
    "- Verifica que el dato de entrada sea una lista.\n",
    "- Verifica que la lista tenga 0 o 1 elementos. Si es Así, no hay nada que ordenar, por lo que la función devolvera la lista tal como está.\n",
    "- Si la lista tiene mas de 1 elemento, se elije el primer elemento como pivote.\n",
    "- Se separa 2 sublistas con los elementos menores al pivote y otro con los elementos mayores al pivote.\n",
    "- Se llama recursivamente a la funcion Quicksort con las sublistas y el pivote en formato lista en medio de las dos sublistas.\n",
    "- Se realizan las pruebas de la funcion Quicksort"
   ]
  },
  {
   "cell_type": "code",
   "execution_count": 14,
   "metadata": {},
   "outputs": [
    {
     "name": "stdout",
     "output_type": "stream",
     "text": [
      "Lista original: [3, 6, 8, 10, 1, 2, 1]\n",
      "Lista ordenada: [1, 2, 3, 6, 8, 10]\n"
     ]
    }
   ],
   "source": [
    "def Quicksort(lista):\n",
    "\n",
    "  if not isinstance(lista, list):\n",
    "    raise ValueError('El dato de entrada debe ser una lista')\n",
    "  \n",
    "  if (len(lista) == 0) or (len(lista) == 1):\n",
    "    return lista\n",
    "  \n",
    "  pivote = lista[0]\n",
    "  \n",
    "  menor_que_pivote = [x for x in lista[1:] if x < pivote]\n",
    "  mayor_que_pivote = [x for x in lista[1:] if x > pivote]\n",
    "  \n",
    "  return Quicksort(menor_que_pivote) + [pivote] + Quicksort(mayor_que_pivote)\n",
    "\n",
    "arr = [3, 6, 8, 10, 1, 2, 1]\n",
    "print(\"Lista original:\", arr)\n",
    "sorted_arr = Quicksort(arr)\n",
    "print(\"Lista ordenada:\", sorted_arr)"
   ]
  }
 ],
 "metadata": {
  "kernelspec": {
   "display_name": "env",
   "language": "python",
   "name": "python3"
  },
  "language_info": {
   "codemirror_mode": {
    "name": "ipython",
    "version": 3
   },
   "file_extension": ".py",
   "mimetype": "text/x-python",
   "name": "python",
   "nbconvert_exporter": "python",
   "pygments_lexer": "ipython3",
   "version": "3.12.2"
  }
 },
 "nbformat": 4,
 "nbformat_minor": 2
}
